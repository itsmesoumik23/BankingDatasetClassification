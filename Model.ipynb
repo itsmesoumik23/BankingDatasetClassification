{
 "cells": [
  {
   "cell_type": "markdown",
   "id": "b9324448",
   "metadata": {
    "id": "b9324448"
   },
   "source": [
    "#### Importing Libraries"
   ]
  },
  {
   "cell_type": "code",
   "execution_count": 1,
   "id": "e78d080b",
   "metadata": {
    "id": "e78d080b"
   },
   "outputs": [],
   "source": [
    "import numpy as np\n",
    "import pandas as pd"
   ]
  },
  {
   "cell_type": "code",
   "execution_count": 2,
   "id": "9124c554",
   "metadata": {
    "colab": {
     "base_uri": "https://localhost:8080/",
     "height": 487
    },
    "id": "9124c554",
    "outputId": "ca4acfb8-711a-4610-cbd0-c11e257d6628",
    "scrolled": true
   },
   "outputs": [
    {
     "data": {
      "text/html": [
       "<div>\n",
       "<style scoped>\n",
       "    .dataframe tbody tr th:only-of-type {\n",
       "        vertical-align: middle;\n",
       "    }\n",
       "\n",
       "    .dataframe tbody tr th {\n",
       "        vertical-align: top;\n",
       "    }\n",
       "\n",
       "    .dataframe thead th {\n",
       "        text-align: right;\n",
       "    }\n",
       "</style>\n",
       "<table border=\"1\" class=\"dataframe\">\n",
       "  <thead>\n",
       "    <tr style=\"text-align: right;\">\n",
       "      <th></th>\n",
       "      <th>age</th>\n",
       "      <th>job</th>\n",
       "      <th>marital</th>\n",
       "      <th>education</th>\n",
       "      <th>default</th>\n",
       "      <th>housing</th>\n",
       "      <th>loan</th>\n",
       "      <th>contact</th>\n",
       "      <th>month</th>\n",
       "      <th>day_of_week</th>\n",
       "      <th>duration</th>\n",
       "      <th>campaign</th>\n",
       "      <th>pdays</th>\n",
       "      <th>previous</th>\n",
       "      <th>poutcome</th>\n",
       "      <th>y</th>\n",
       "    </tr>\n",
       "  </thead>\n",
       "  <tbody>\n",
       "    <tr>\n",
       "      <th>0</th>\n",
       "      <td>49</td>\n",
       "      <td>blue-collar</td>\n",
       "      <td>married</td>\n",
       "      <td>basic.9y</td>\n",
       "      <td>no</td>\n",
       "      <td>no</td>\n",
       "      <td>no</td>\n",
       "      <td>cellular</td>\n",
       "      <td>nov</td>\n",
       "      <td>wed</td>\n",
       "      <td>227</td>\n",
       "      <td>4</td>\n",
       "      <td>999</td>\n",
       "      <td>0</td>\n",
       "      <td>nonexistent</td>\n",
       "      <td>no</td>\n",
       "    </tr>\n",
       "    <tr>\n",
       "      <th>1</th>\n",
       "      <td>37</td>\n",
       "      <td>entrepreneur</td>\n",
       "      <td>married</td>\n",
       "      <td>university.degree</td>\n",
       "      <td>no</td>\n",
       "      <td>no</td>\n",
       "      <td>no</td>\n",
       "      <td>telephone</td>\n",
       "      <td>nov</td>\n",
       "      <td>wed</td>\n",
       "      <td>202</td>\n",
       "      <td>2</td>\n",
       "      <td>999</td>\n",
       "      <td>1</td>\n",
       "      <td>failure</td>\n",
       "      <td>no</td>\n",
       "    </tr>\n",
       "    <tr>\n",
       "      <th>2</th>\n",
       "      <td>78</td>\n",
       "      <td>retired</td>\n",
       "      <td>married</td>\n",
       "      <td>basic.4y</td>\n",
       "      <td>no</td>\n",
       "      <td>no</td>\n",
       "      <td>no</td>\n",
       "      <td>cellular</td>\n",
       "      <td>jul</td>\n",
       "      <td>mon</td>\n",
       "      <td>1148</td>\n",
       "      <td>1</td>\n",
       "      <td>999</td>\n",
       "      <td>0</td>\n",
       "      <td>nonexistent</td>\n",
       "      <td>yes</td>\n",
       "    </tr>\n",
       "    <tr>\n",
       "      <th>3</th>\n",
       "      <td>36</td>\n",
       "      <td>admin.</td>\n",
       "      <td>married</td>\n",
       "      <td>university.degree</td>\n",
       "      <td>no</td>\n",
       "      <td>yes</td>\n",
       "      <td>no</td>\n",
       "      <td>telephone</td>\n",
       "      <td>may</td>\n",
       "      <td>mon</td>\n",
       "      <td>120</td>\n",
       "      <td>2</td>\n",
       "      <td>999</td>\n",
       "      <td>0</td>\n",
       "      <td>nonexistent</td>\n",
       "      <td>no</td>\n",
       "    </tr>\n",
       "    <tr>\n",
       "      <th>4</th>\n",
       "      <td>59</td>\n",
       "      <td>retired</td>\n",
       "      <td>divorced</td>\n",
       "      <td>university.degree</td>\n",
       "      <td>no</td>\n",
       "      <td>no</td>\n",
       "      <td>no</td>\n",
       "      <td>cellular</td>\n",
       "      <td>jun</td>\n",
       "      <td>tue</td>\n",
       "      <td>368</td>\n",
       "      <td>2</td>\n",
       "      <td>999</td>\n",
       "      <td>0</td>\n",
       "      <td>nonexistent</td>\n",
       "      <td>no</td>\n",
       "    </tr>\n",
       "    <tr>\n",
       "      <th>...</th>\n",
       "      <td>...</td>\n",
       "      <td>...</td>\n",
       "      <td>...</td>\n",
       "      <td>...</td>\n",
       "      <td>...</td>\n",
       "      <td>...</td>\n",
       "      <td>...</td>\n",
       "      <td>...</td>\n",
       "      <td>...</td>\n",
       "      <td>...</td>\n",
       "      <td>...</td>\n",
       "      <td>...</td>\n",
       "      <td>...</td>\n",
       "      <td>...</td>\n",
       "      <td>...</td>\n",
       "      <td>...</td>\n",
       "    </tr>\n",
       "    <tr>\n",
       "      <th>32945</th>\n",
       "      <td>28</td>\n",
       "      <td>services</td>\n",
       "      <td>single</td>\n",
       "      <td>high.school</td>\n",
       "      <td>no</td>\n",
       "      <td>yes</td>\n",
       "      <td>no</td>\n",
       "      <td>cellular</td>\n",
       "      <td>jul</td>\n",
       "      <td>tue</td>\n",
       "      <td>192</td>\n",
       "      <td>1</td>\n",
       "      <td>999</td>\n",
       "      <td>0</td>\n",
       "      <td>nonexistent</td>\n",
       "      <td>no</td>\n",
       "    </tr>\n",
       "    <tr>\n",
       "      <th>32946</th>\n",
       "      <td>52</td>\n",
       "      <td>technician</td>\n",
       "      <td>married</td>\n",
       "      <td>professional.course</td>\n",
       "      <td>no</td>\n",
       "      <td>yes</td>\n",
       "      <td>no</td>\n",
       "      <td>cellular</td>\n",
       "      <td>nov</td>\n",
       "      <td>fri</td>\n",
       "      <td>64</td>\n",
       "      <td>1</td>\n",
       "      <td>999</td>\n",
       "      <td>1</td>\n",
       "      <td>failure</td>\n",
       "      <td>no</td>\n",
       "    </tr>\n",
       "    <tr>\n",
       "      <th>32947</th>\n",
       "      <td>54</td>\n",
       "      <td>admin.</td>\n",
       "      <td>married</td>\n",
       "      <td>basic.9y</td>\n",
       "      <td>no</td>\n",
       "      <td>no</td>\n",
       "      <td>yes</td>\n",
       "      <td>cellular</td>\n",
       "      <td>jul</td>\n",
       "      <td>mon</td>\n",
       "      <td>131</td>\n",
       "      <td>4</td>\n",
       "      <td>999</td>\n",
       "      <td>0</td>\n",
       "      <td>nonexistent</td>\n",
       "      <td>no</td>\n",
       "    </tr>\n",
       "    <tr>\n",
       "      <th>32948</th>\n",
       "      <td>29</td>\n",
       "      <td>admin.</td>\n",
       "      <td>married</td>\n",
       "      <td>university.degree</td>\n",
       "      <td>no</td>\n",
       "      <td>no</td>\n",
       "      <td>no</td>\n",
       "      <td>telephone</td>\n",
       "      <td>may</td>\n",
       "      <td>fri</td>\n",
       "      <td>165</td>\n",
       "      <td>1</td>\n",
       "      <td>999</td>\n",
       "      <td>0</td>\n",
       "      <td>nonexistent</td>\n",
       "      <td>no</td>\n",
       "    </tr>\n",
       "    <tr>\n",
       "      <th>32949</th>\n",
       "      <td>35</td>\n",
       "      <td>admin.</td>\n",
       "      <td>married</td>\n",
       "      <td>university.degree</td>\n",
       "      <td>no</td>\n",
       "      <td>no</td>\n",
       "      <td>yes</td>\n",
       "      <td>telephone</td>\n",
       "      <td>jun</td>\n",
       "      <td>tue</td>\n",
       "      <td>544</td>\n",
       "      <td>3</td>\n",
       "      <td>999</td>\n",
       "      <td>0</td>\n",
       "      <td>nonexistent</td>\n",
       "      <td>no</td>\n",
       "    </tr>\n",
       "  </tbody>\n",
       "</table>\n",
       "<p>32950 rows × 16 columns</p>\n",
       "</div>"
      ],
      "text/plain": [
       "       age           job   marital            education default housing loan  \\\n",
       "0       49   blue-collar   married             basic.9y      no      no   no   \n",
       "1       37  entrepreneur   married    university.degree      no      no   no   \n",
       "2       78       retired   married             basic.4y      no      no   no   \n",
       "3       36        admin.   married    university.degree      no     yes   no   \n",
       "4       59       retired  divorced    university.degree      no      no   no   \n",
       "...    ...           ...       ...                  ...     ...     ...  ...   \n",
       "32945   28      services    single          high.school      no     yes   no   \n",
       "32946   52    technician   married  professional.course      no     yes   no   \n",
       "32947   54        admin.   married             basic.9y      no      no  yes   \n",
       "32948   29        admin.   married    university.degree      no      no   no   \n",
       "32949   35        admin.   married    university.degree      no      no  yes   \n",
       "\n",
       "         contact month day_of_week  duration  campaign  pdays  previous  \\\n",
       "0       cellular   nov         wed       227         4    999         0   \n",
       "1      telephone   nov         wed       202         2    999         1   \n",
       "2       cellular   jul         mon      1148         1    999         0   \n",
       "3      telephone   may         mon       120         2    999         0   \n",
       "4       cellular   jun         tue       368         2    999         0   \n",
       "...          ...   ...         ...       ...       ...    ...       ...   \n",
       "32945   cellular   jul         tue       192         1    999         0   \n",
       "32946   cellular   nov         fri        64         1    999         1   \n",
       "32947   cellular   jul         mon       131         4    999         0   \n",
       "32948  telephone   may         fri       165         1    999         0   \n",
       "32949  telephone   jun         tue       544         3    999         0   \n",
       "\n",
       "          poutcome    y  \n",
       "0      nonexistent   no  \n",
       "1          failure   no  \n",
       "2      nonexistent  yes  \n",
       "3      nonexistent   no  \n",
       "4      nonexistent   no  \n",
       "...            ...  ...  \n",
       "32945  nonexistent   no  \n",
       "32946      failure   no  \n",
       "32947  nonexistent   no  \n",
       "32948  nonexistent   no  \n",
       "32949  nonexistent   no  \n",
       "\n",
       "[32950 rows x 16 columns]"
      ]
     },
     "execution_count": 2,
     "metadata": {},
     "output_type": "execute_result"
    }
   ],
   "source": [
    "df = pd.read_csv('./dataset.csv')\n",
    "y = df.iloc[:, -1].values\n",
    "df"
   ]
  },
  {
   "cell_type": "code",
   "execution_count": 3,
   "id": "78dcb2e5",
   "metadata": {
    "colab": {
     "base_uri": "https://localhost:8080/"
    },
    "id": "78dcb2e5",
    "outputId": "9f896c2e-e91e-4f16-f4fd-a583df9f2ece"
   },
   "outputs": [
    {
     "data": {
      "text/plain": [
       "3"
      ]
     },
     "execution_count": 3,
     "metadata": {},
     "output_type": "execute_result"
    }
   ],
   "source": [
    "df['marital'].nunique()"
   ]
  },
  {
   "cell_type": "code",
   "execution_count": 4,
   "id": "75fa1eea",
   "metadata": {
    "colab": {
     "base_uri": "https://localhost:8080/"
    },
    "id": "75fa1eea",
    "outputId": "0c40971d-97bb-4df6-ebe1-0c5b8b16db07"
   },
   "outputs": [
    {
     "data": {
      "text/plain": [
       "array(['no', 'no', 'yes', ..., 'no', 'no', 'no'], dtype=object)"
      ]
     },
     "execution_count": 4,
     "metadata": {},
     "output_type": "execute_result"
    }
   ],
   "source": [
    "y"
   ]
  },
  {
   "cell_type": "markdown",
   "id": "c4a00a2a",
   "metadata": {
    "id": "c4a00a2a"
   },
   "source": [
    "#### Encoding Categorical Data"
   ]
  },
  {
   "cell_type": "markdown",
   "id": "26a789a1",
   "metadata": {
    "id": "26a789a1"
   },
   "source": [
    "##### Encoding Independent Variables"
   ]
  },
  {
   "cell_type": "code",
   "execution_count": 5,
   "id": "52f21e74",
   "metadata": {
    "colab": {
     "base_uri": "https://localhost:8080/",
     "height": 504
    },
    "id": "52f21e74",
    "outputId": "729dd334-1aae-46f3-ac5e-9b52200dafd8"
   },
   "outputs": [
    {
     "data": {
      "text/html": [
       "<div>\n",
       "<style scoped>\n",
       "    .dataframe tbody tr th:only-of-type {\n",
       "        vertical-align: middle;\n",
       "    }\n",
       "\n",
       "    .dataframe tbody tr th {\n",
       "        vertical-align: top;\n",
       "    }\n",
       "\n",
       "    .dataframe thead th {\n",
       "        text-align: right;\n",
       "    }\n",
       "</style>\n",
       "<table border=\"1\" class=\"dataframe\">\n",
       "  <thead>\n",
       "    <tr style=\"text-align: right;\">\n",
       "      <th></th>\n",
       "      <th>age</th>\n",
       "      <th>admin.</th>\n",
       "      <th>blue-collar</th>\n",
       "      <th>entrepreneur</th>\n",
       "      <th>housemaid</th>\n",
       "      <th>management</th>\n",
       "      <th>retired</th>\n",
       "      <th>self-employed</th>\n",
       "      <th>services</th>\n",
       "      <th>student</th>\n",
       "      <th>...</th>\n",
       "      <th>thu</th>\n",
       "      <th>tue</th>\n",
       "      <th>wed</th>\n",
       "      <th>duration</th>\n",
       "      <th>campaign</th>\n",
       "      <th>pdays</th>\n",
       "      <th>previous</th>\n",
       "      <th>failure</th>\n",
       "      <th>nonexistent</th>\n",
       "      <th>success</th>\n",
       "    </tr>\n",
       "  </thead>\n",
       "  <tbody>\n",
       "    <tr>\n",
       "      <th>0</th>\n",
       "      <td>49</td>\n",
       "      <td>0</td>\n",
       "      <td>1</td>\n",
       "      <td>0</td>\n",
       "      <td>0</td>\n",
       "      <td>0</td>\n",
       "      <td>0</td>\n",
       "      <td>0</td>\n",
       "      <td>0</td>\n",
       "      <td>0</td>\n",
       "      <td>...</td>\n",
       "      <td>0</td>\n",
       "      <td>0</td>\n",
       "      <td>1</td>\n",
       "      <td>227</td>\n",
       "      <td>4</td>\n",
       "      <td>999</td>\n",
       "      <td>0</td>\n",
       "      <td>0</td>\n",
       "      <td>1</td>\n",
       "      <td>0</td>\n",
       "    </tr>\n",
       "    <tr>\n",
       "      <th>1</th>\n",
       "      <td>37</td>\n",
       "      <td>0</td>\n",
       "      <td>0</td>\n",
       "      <td>1</td>\n",
       "      <td>0</td>\n",
       "      <td>0</td>\n",
       "      <td>0</td>\n",
       "      <td>0</td>\n",
       "      <td>0</td>\n",
       "      <td>0</td>\n",
       "      <td>...</td>\n",
       "      <td>0</td>\n",
       "      <td>0</td>\n",
       "      <td>1</td>\n",
       "      <td>202</td>\n",
       "      <td>2</td>\n",
       "      <td>999</td>\n",
       "      <td>1</td>\n",
       "      <td>1</td>\n",
       "      <td>0</td>\n",
       "      <td>0</td>\n",
       "    </tr>\n",
       "    <tr>\n",
       "      <th>2</th>\n",
       "      <td>78</td>\n",
       "      <td>0</td>\n",
       "      <td>0</td>\n",
       "      <td>0</td>\n",
       "      <td>0</td>\n",
       "      <td>0</td>\n",
       "      <td>1</td>\n",
       "      <td>0</td>\n",
       "      <td>0</td>\n",
       "      <td>0</td>\n",
       "      <td>...</td>\n",
       "      <td>0</td>\n",
       "      <td>0</td>\n",
       "      <td>0</td>\n",
       "      <td>1148</td>\n",
       "      <td>1</td>\n",
       "      <td>999</td>\n",
       "      <td>0</td>\n",
       "      <td>0</td>\n",
       "      <td>1</td>\n",
       "      <td>0</td>\n",
       "    </tr>\n",
       "    <tr>\n",
       "      <th>3</th>\n",
       "      <td>36</td>\n",
       "      <td>1</td>\n",
       "      <td>0</td>\n",
       "      <td>0</td>\n",
       "      <td>0</td>\n",
       "      <td>0</td>\n",
       "      <td>0</td>\n",
       "      <td>0</td>\n",
       "      <td>0</td>\n",
       "      <td>0</td>\n",
       "      <td>...</td>\n",
       "      <td>0</td>\n",
       "      <td>0</td>\n",
       "      <td>0</td>\n",
       "      <td>120</td>\n",
       "      <td>2</td>\n",
       "      <td>999</td>\n",
       "      <td>0</td>\n",
       "      <td>0</td>\n",
       "      <td>1</td>\n",
       "      <td>0</td>\n",
       "    </tr>\n",
       "    <tr>\n",
       "      <th>4</th>\n",
       "      <td>59</td>\n",
       "      <td>0</td>\n",
       "      <td>0</td>\n",
       "      <td>0</td>\n",
       "      <td>0</td>\n",
       "      <td>0</td>\n",
       "      <td>1</td>\n",
       "      <td>0</td>\n",
       "      <td>0</td>\n",
       "      <td>0</td>\n",
       "      <td>...</td>\n",
       "      <td>0</td>\n",
       "      <td>1</td>\n",
       "      <td>0</td>\n",
       "      <td>368</td>\n",
       "      <td>2</td>\n",
       "      <td>999</td>\n",
       "      <td>0</td>\n",
       "      <td>0</td>\n",
       "      <td>1</td>\n",
       "      <td>0</td>\n",
       "    </tr>\n",
       "    <tr>\n",
       "      <th>...</th>\n",
       "      <td>...</td>\n",
       "      <td>...</td>\n",
       "      <td>...</td>\n",
       "      <td>...</td>\n",
       "      <td>...</td>\n",
       "      <td>...</td>\n",
       "      <td>...</td>\n",
       "      <td>...</td>\n",
       "      <td>...</td>\n",
       "      <td>...</td>\n",
       "      <td>...</td>\n",
       "      <td>...</td>\n",
       "      <td>...</td>\n",
       "      <td>...</td>\n",
       "      <td>...</td>\n",
       "      <td>...</td>\n",
       "      <td>...</td>\n",
       "      <td>...</td>\n",
       "      <td>...</td>\n",
       "      <td>...</td>\n",
       "      <td>...</td>\n",
       "    </tr>\n",
       "    <tr>\n",
       "      <th>32945</th>\n",
       "      <td>28</td>\n",
       "      <td>0</td>\n",
       "      <td>0</td>\n",
       "      <td>0</td>\n",
       "      <td>0</td>\n",
       "      <td>0</td>\n",
       "      <td>0</td>\n",
       "      <td>0</td>\n",
       "      <td>1</td>\n",
       "      <td>0</td>\n",
       "      <td>...</td>\n",
       "      <td>0</td>\n",
       "      <td>1</td>\n",
       "      <td>0</td>\n",
       "      <td>192</td>\n",
       "      <td>1</td>\n",
       "      <td>999</td>\n",
       "      <td>0</td>\n",
       "      <td>0</td>\n",
       "      <td>1</td>\n",
       "      <td>0</td>\n",
       "    </tr>\n",
       "    <tr>\n",
       "      <th>32946</th>\n",
       "      <td>52</td>\n",
       "      <td>0</td>\n",
       "      <td>0</td>\n",
       "      <td>0</td>\n",
       "      <td>0</td>\n",
       "      <td>0</td>\n",
       "      <td>0</td>\n",
       "      <td>0</td>\n",
       "      <td>0</td>\n",
       "      <td>0</td>\n",
       "      <td>...</td>\n",
       "      <td>0</td>\n",
       "      <td>0</td>\n",
       "      <td>0</td>\n",
       "      <td>64</td>\n",
       "      <td>1</td>\n",
       "      <td>999</td>\n",
       "      <td>1</td>\n",
       "      <td>1</td>\n",
       "      <td>0</td>\n",
       "      <td>0</td>\n",
       "    </tr>\n",
       "    <tr>\n",
       "      <th>32947</th>\n",
       "      <td>54</td>\n",
       "      <td>1</td>\n",
       "      <td>0</td>\n",
       "      <td>0</td>\n",
       "      <td>0</td>\n",
       "      <td>0</td>\n",
       "      <td>0</td>\n",
       "      <td>0</td>\n",
       "      <td>0</td>\n",
       "      <td>0</td>\n",
       "      <td>...</td>\n",
       "      <td>0</td>\n",
       "      <td>0</td>\n",
       "      <td>0</td>\n",
       "      <td>131</td>\n",
       "      <td>4</td>\n",
       "      <td>999</td>\n",
       "      <td>0</td>\n",
       "      <td>0</td>\n",
       "      <td>1</td>\n",
       "      <td>0</td>\n",
       "    </tr>\n",
       "    <tr>\n",
       "      <th>32948</th>\n",
       "      <td>29</td>\n",
       "      <td>1</td>\n",
       "      <td>0</td>\n",
       "      <td>0</td>\n",
       "      <td>0</td>\n",
       "      <td>0</td>\n",
       "      <td>0</td>\n",
       "      <td>0</td>\n",
       "      <td>0</td>\n",
       "      <td>0</td>\n",
       "      <td>...</td>\n",
       "      <td>0</td>\n",
       "      <td>0</td>\n",
       "      <td>0</td>\n",
       "      <td>165</td>\n",
       "      <td>1</td>\n",
       "      <td>999</td>\n",
       "      <td>0</td>\n",
       "      <td>0</td>\n",
       "      <td>1</td>\n",
       "      <td>0</td>\n",
       "    </tr>\n",
       "    <tr>\n",
       "      <th>32949</th>\n",
       "      <td>35</td>\n",
       "      <td>1</td>\n",
       "      <td>0</td>\n",
       "      <td>0</td>\n",
       "      <td>0</td>\n",
       "      <td>0</td>\n",
       "      <td>0</td>\n",
       "      <td>0</td>\n",
       "      <td>0</td>\n",
       "      <td>0</td>\n",
       "      <td>...</td>\n",
       "      <td>0</td>\n",
       "      <td>1</td>\n",
       "      <td>0</td>\n",
       "      <td>544</td>\n",
       "      <td>3</td>\n",
       "      <td>999</td>\n",
       "      <td>0</td>\n",
       "      <td>0</td>\n",
       "      <td>1</td>\n",
       "      <td>0</td>\n",
       "    </tr>\n",
       "  </tbody>\n",
       "</table>\n",
       "<p>32950 rows × 52 columns</p>\n",
       "</div>"
      ],
      "text/plain": [
       "       age  admin.  blue-collar  entrepreneur  housemaid  management  retired  \\\n",
       "0       49       0            1             0          0           0        0   \n",
       "1       37       0            0             1          0           0        0   \n",
       "2       78       0            0             0          0           0        1   \n",
       "3       36       1            0             0          0           0        0   \n",
       "4       59       0            0             0          0           0        1   \n",
       "...    ...     ...          ...           ...        ...         ...      ...   \n",
       "32945   28       0            0             0          0           0        0   \n",
       "32946   52       0            0             0          0           0        0   \n",
       "32947   54       1            0             0          0           0        0   \n",
       "32948   29       1            0             0          0           0        0   \n",
       "32949   35       1            0             0          0           0        0   \n",
       "\n",
       "       self-employed  services  student  ...  thu  tue  wed  duration  \\\n",
       "0                  0         0        0  ...    0    0    1       227   \n",
       "1                  0         0        0  ...    0    0    1       202   \n",
       "2                  0         0        0  ...    0    0    0      1148   \n",
       "3                  0         0        0  ...    0    0    0       120   \n",
       "4                  0         0        0  ...    0    1    0       368   \n",
       "...              ...       ...      ...  ...  ...  ...  ...       ...   \n",
       "32945              0         1        0  ...    0    1    0       192   \n",
       "32946              0         0        0  ...    0    0    0        64   \n",
       "32947              0         0        0  ...    0    0    0       131   \n",
       "32948              0         0        0  ...    0    0    0       165   \n",
       "32949              0         0        0  ...    0    1    0       544   \n",
       "\n",
       "       campaign  pdays  previous  failure  nonexistent  success  \n",
       "0             4    999         0        0            1        0  \n",
       "1             2    999         1        1            0        0  \n",
       "2             1    999         0        0            1        0  \n",
       "3             2    999         0        0            1        0  \n",
       "4             2    999         0        0            1        0  \n",
       "...         ...    ...       ...      ...          ...      ...  \n",
       "32945         1    999         0        0            1        0  \n",
       "32946         1    999         1        1            0        0  \n",
       "32947         4    999         0        0            1        0  \n",
       "32948         1    999         0        0            1        0  \n",
       "32949         3    999         0        0            1        0  \n",
       "\n",
       "[32950 rows x 52 columns]"
      ]
     },
     "execution_count": 5,
     "metadata": {},
     "output_type": "execute_result"
    }
   ],
   "source": [
    "df1 = pd.get_dummies(df['job'])\n",
    "df2 = pd.get_dummies(df['marital'])\n",
    "df3 = pd.get_dummies(df['education'])\n",
    "df4 = pd.get_dummies(df['default'])\n",
    "df5 = pd.get_dummies(df['housing'])\n",
    "df6 = pd.get_dummies(df['loan'])\n",
    "df7 = pd.get_dummies(df['contact'])\n",
    "df8 = pd.get_dummies(df['month'])\n",
    "df9 = pd.get_dummies(df['day_of_week'])\n",
    "df10 = pd.get_dummies(df['poutcome'])\n",
    "pd.get_dummies(df['job'])\n",
    "\n",
    "result = pd.concat([df1, df2, df3, df4, df5, df6, df7, df8, df9], axis=1, join='inner')\n",
    "\n",
    "temp_df1 = df[['age']]\n",
    "temp_df1\n",
    "\n",
    "temp_df2 = df[['duration', 'campaign', 'pdays', 'previous']]\n",
    "temp_df2\n",
    "\n",
    "final_df = pd.concat([temp_df1, result, temp_df2, df10], axis=1, join='inner')\n",
    "final_df"
   ]
  },
  {
   "cell_type": "code",
   "execution_count": 6,
   "id": "4c73d4b4",
   "metadata": {
    "id": "4c73d4b4"
   },
   "outputs": [],
   "source": [
    "x = final_df.iloc[:, :].values"
   ]
  },
  {
   "cell_type": "code",
   "execution_count": 7,
   "id": "486238ea",
   "metadata": {
    "colab": {
     "base_uri": "https://localhost:8080/"
    },
    "id": "486238ea",
    "outputId": "3a535504-99b1-4ab8-b4c1-31fa7d1637be"
   },
   "outputs": [
    {
     "data": {
      "text/plain": [
       "array([[49,  0,  1, ...,  0,  1,  0],\n",
       "       [37,  0,  0, ...,  1,  0,  0],\n",
       "       [78,  0,  0, ...,  0,  1,  0],\n",
       "       ...,\n",
       "       [54,  1,  0, ...,  0,  1,  0],\n",
       "       [29,  1,  0, ...,  0,  1,  0],\n",
       "       [35,  1,  0, ...,  0,  1,  0]], dtype=int64)"
      ]
     },
     "execution_count": 7,
     "metadata": {},
     "output_type": "execute_result"
    }
   ],
   "source": [
    "x"
   ]
  },
  {
   "cell_type": "markdown",
   "id": "10913c3c",
   "metadata": {
    "id": "10913c3c"
   },
   "source": [
    "##### Encoding Dependent Variables"
   ]
  },
  {
   "cell_type": "code",
   "execution_count": 8,
   "id": "3226d22f",
   "metadata": {
    "id": "3226d22f"
   },
   "outputs": [],
   "source": [
    "from sklearn.preprocessing import LabelEncoder\n",
    "le = LabelEncoder()\n",
    "y = le.fit_transform(y)"
   ]
  },
  {
   "cell_type": "code",
   "execution_count": 9,
   "id": "a5a55a80",
   "metadata": {
    "colab": {
     "base_uri": "https://localhost:8080/"
    },
    "id": "a5a55a80",
    "outputId": "30d05e8b-24c6-4f80-cc20-396efa7a1d33"
   },
   "outputs": [
    {
     "data": {
      "text/plain": [
       "array([0, 0, 1, ..., 0, 0, 0])"
      ]
     },
     "execution_count": 9,
     "metadata": {},
     "output_type": "execute_result"
    }
   ],
   "source": [
    "y"
   ]
  },
  {
   "cell_type": "markdown",
   "id": "172246cb",
   "metadata": {
    "id": "172246cb"
   },
   "source": [
    "#### Splitting Dataset"
   ]
  },
  {
   "cell_type": "code",
   "execution_count": 10,
   "id": "256df6d4",
   "metadata": {
    "id": "256df6d4"
   },
   "outputs": [],
   "source": [
    "from sklearn.model_selection import train_test_split\n",
    "x_train, x_test, y_train, y_test = train_test_split(x, y, test_size = 0.2, random_state = 42)"
   ]
  },
  {
   "cell_type": "markdown",
   "id": "f0254c39",
   "metadata": {
    "id": "f0254c39"
   },
   "source": [
    "#### Feature Scaling"
   ]
  },
  {
   "cell_type": "code",
   "execution_count": 11,
   "id": "22ea616d",
   "metadata": {
    "id": "22ea616d"
   },
   "outputs": [],
   "source": [
    "from sklearn.preprocessing import StandardScaler\n",
    "sc = StandardScaler()\n",
    "x_train = sc.fit_transform(x_train)\n",
    "x_test = sc.transform(x_test)"
   ]
  },
  {
   "cell_type": "markdown",
   "id": "3ec11674",
   "metadata": {
    "id": "3ec11674"
   },
   "source": [
    "# ---------- Logistic Regression ----------"
   ]
  },
  {
   "cell_type": "code",
   "execution_count": 12,
   "id": "e91749f4",
   "metadata": {
    "colab": {
     "base_uri": "https://localhost:8080/"
    },
    "id": "e91749f4",
    "outputId": "adf8f090-40a3-48e8-ff23-f4c5370ca03b"
   },
   "outputs": [
    {
     "data": {
      "text/plain": [
       "LogisticRegression(random_state=0)"
      ]
     },
     "execution_count": 12,
     "metadata": {},
     "output_type": "execute_result"
    }
   ],
   "source": [
    "# training the logistic regression model in training set.\n",
    "from sklearn.linear_model import LogisticRegression\n",
    "classifier = LogisticRegression(random_state = 0)\n",
    "classifier.fit(x_train, y_train)"
   ]
  },
  {
   "cell_type": "markdown",
   "id": "38106e6a",
   "metadata": {
    "id": "38106e6a"
   },
   "source": [
    "#### Predicting Test Set Results"
   ]
  },
  {
   "cell_type": "code",
   "execution_count": 13,
   "id": "a343c6eb",
   "metadata": {
    "colab": {
     "base_uri": "https://localhost:8080/"
    },
    "id": "a343c6eb",
    "outputId": "267355bf-8a9c-453c-a546-f23837e23739"
   },
   "outputs": [
    {
     "name": "stdout",
     "output_type": "stream",
     "text": [
      "[[0 0]\n",
      " [0 0]\n",
      " [0 0]\n",
      " ...\n",
      " [0 0]\n",
      " [0 0]\n",
      " [1 1]]\n"
     ]
    }
   ],
   "source": [
    "y_pred = classifier.predict(x_test)\n",
    "print(np.concatenate((y_pred.reshape(len(y_pred),1), y_test.reshape(len(y_test),1)),1))"
   ]
  },
  {
   "cell_type": "markdown",
   "id": "54b09b03",
   "metadata": {
    "id": "54b09b03"
   },
   "source": [
    "#### Making Confusion Matrix and Accuracy"
   ]
  },
  {
   "cell_type": "code",
   "execution_count": 14,
   "id": "8d9d1e67",
   "metadata": {
    "colab": {
     "base_uri": "https://localhost:8080/"
    },
    "id": "8d9d1e67",
    "outputId": "60a07369-5c88-4508-b135-c1ae6ad303d7",
    "scrolled": true
   },
   "outputs": [
    {
     "name": "stdout",
     "output_type": "stream",
     "text": [
      "[[5653  145]\n",
      " [ 506  286]]\n",
      "accuracy:  90.12139605462822 %\n"
     ]
    }
   ],
   "source": [
    "from sklearn.metrics import confusion_matrix, accuracy_score\n",
    "cm = confusion_matrix(y_test, y_pred)\n",
    "print(cm)\n",
    "print(\"accuracy: \", accuracy_score(y_test, y_pred) * 100, \"%\")"
   ]
  },
  {
   "cell_type": "markdown",
   "id": "c13484af",
   "metadata": {
    "id": "c13484af"
   },
   "source": [
    "# ---------- K-Nearest Neighbors ----------"
   ]
  },
  {
   "cell_type": "code",
   "execution_count": 15,
   "id": "f834103d",
   "metadata": {
    "colab": {
     "base_uri": "https://localhost:8080/"
    },
    "id": "f834103d",
    "outputId": "1b91b70e-ce48-447f-8410-cb616f8316ae"
   },
   "outputs": [
    {
     "data": {
      "text/plain": [
       "KNeighborsClassifier()"
      ]
     },
     "execution_count": 15,
     "metadata": {},
     "output_type": "execute_result"
    }
   ],
   "source": [
    "# Training the K-NN model on the Training set\n",
    "from sklearn.neighbors import KNeighborsClassifier\n",
    "classifier = KNeighborsClassifier(n_neighbors = 5, metric = 'minkowski', p = 2)\n",
    "classifier.fit(x_train, y_train)"
   ]
  },
  {
   "cell_type": "markdown",
   "id": "091b8c2a",
   "metadata": {
    "id": "091b8c2a"
   },
   "source": [
    "#### Predicting Test Set Results"
   ]
  },
  {
   "cell_type": "code",
   "execution_count": 16,
   "id": "7727556b",
   "metadata": {
    "colab": {
     "base_uri": "https://localhost:8080/"
    },
    "id": "7727556b",
    "outputId": "6c6d79a3-d9b5-436e-c12f-754279164323"
   },
   "outputs": [
    {
     "name": "stdout",
     "output_type": "stream",
     "text": [
      "[[0 0]\n",
      " [1 0]\n",
      " [0 0]\n",
      " ...\n",
      " [0 0]\n",
      " [0 0]\n",
      " [1 1]]\n"
     ]
    }
   ],
   "source": [
    "y_pred = classifier.predict(x_test)\n",
    "print(np.concatenate((y_pred.reshape(len(y_pred),1), y_test.reshape(len(y_test),1)),1))"
   ]
  },
  {
   "cell_type": "markdown",
   "id": "ddc48a9c",
   "metadata": {
    "id": "ddc48a9c"
   },
   "source": [
    "#### Making Confusion Matrix and Accuracy"
   ]
  },
  {
   "cell_type": "code",
   "execution_count": 17,
   "id": "e7dd1791",
   "metadata": {
    "colab": {
     "base_uri": "https://localhost:8080/"
    },
    "id": "e7dd1791",
    "outputId": "1744b20c-ddd8-4536-c60e-003ffa7d1c6b"
   },
   "outputs": [
    {
     "name": "stdout",
     "output_type": "stream",
     "text": [
      "[[5653  145]\n",
      " [ 574  218]]\n",
      "accuracy:  89.08952959028832 %\n"
     ]
    }
   ],
   "source": [
    "from sklearn.metrics import confusion_matrix, accuracy_score\n",
    "cm = confusion_matrix(y_test, y_pred)\n",
    "print(cm)\n",
    "print(\"accuracy: \", accuracy_score(y_test, y_pred) * 100, \"%\")"
   ]
  },
  {
   "cell_type": "markdown",
   "id": "44d03675",
   "metadata": {
    "id": "44d03675"
   },
   "source": [
    "# ---------- Support Vector Machine ----------"
   ]
  },
  {
   "cell_type": "code",
   "execution_count": 18,
   "id": "0461aba5",
   "metadata": {
    "colab": {
     "base_uri": "https://localhost:8080/"
    },
    "id": "0461aba5",
    "outputId": "866f488d-239d-4e8f-9c8b-ba5917a5ac7a"
   },
   "outputs": [],
   "source": [
    "# # training SVM model on training set\n",
    "# from sklearn.svm import SVC\n",
    "# classifier = SVC(kernel = 'linear', random_state = 0)\n",
    "# classifier.fit(x_train, y_train)"
   ]
  },
  {
   "cell_type": "markdown",
   "id": "982c561e",
   "metadata": {
    "id": "982c561e"
   },
   "source": [
    "#### Predicting Test Set Results"
   ]
  },
  {
   "cell_type": "code",
   "execution_count": 19,
   "id": "b6998ec1",
   "metadata": {
    "colab": {
     "base_uri": "https://localhost:8080/"
    },
    "id": "b6998ec1",
    "outputId": "03e5576d-2f85-4f76-dc55-391d95bb7efb"
   },
   "outputs": [],
   "source": [
    "# y_pred = classifier.predict(x_test)\n",
    "# print(np.concatenate((y_pred.reshape(len(y_pred),1), y_test.reshape(len(y_test),1)),1))"
   ]
  },
  {
   "cell_type": "markdown",
   "id": "9e42b177",
   "metadata": {
    "id": "9e42b177"
   },
   "source": [
    "#### Making Confusion Matrix and Accuracy"
   ]
  },
  {
   "cell_type": "code",
   "execution_count": 20,
   "id": "feb0bcad",
   "metadata": {
    "colab": {
     "base_uri": "https://localhost:8080/"
    },
    "id": "feb0bcad",
    "outputId": "a4e28a52-04a2-4686-f9bf-3d86cf070dbd"
   },
   "outputs": [],
   "source": [
    "# from sklearn.metrics import confusion_matrix, accuracy_score\n",
    "# cm = confusion_matrix(y_test, y_pred)\n",
    "# print(cm)\n",
    "# print(\"accuracy: \", accuracy_score(y_test, y_pred) * 100, \"%\")"
   ]
  },
  {
   "cell_type": "markdown",
   "id": "c4ba4e66",
   "metadata": {
    "id": "c4ba4e66"
   },
   "source": [
    "# ---------- Kernal SVM ----------"
   ]
  },
  {
   "cell_type": "code",
   "execution_count": 21,
   "id": "0aba5e69",
   "metadata": {
    "colab": {
     "base_uri": "https://localhost:8080/"
    },
    "id": "0aba5e69",
    "outputId": "8c11dc51-cca2-4c1a-83ed-522a373f04e7"
   },
   "outputs": [
    {
     "data": {
      "text/plain": [
       "SVC(random_state=0)"
      ]
     },
     "execution_count": 21,
     "metadata": {},
     "output_type": "execute_result"
    }
   ],
   "source": [
    "# training kernal svm model on training set.\n",
    "from sklearn.svm import SVC\n",
    "classifier = SVC(kernel = 'rbf', random_state = 0)\n",
    "classifier.fit(x_train, y_train)"
   ]
  },
  {
   "cell_type": "markdown",
   "id": "737e7515",
   "metadata": {
    "id": "737e7515"
   },
   "source": [
    "#### Predicting Test Set Results"
   ]
  },
  {
   "cell_type": "code",
   "execution_count": 22,
   "id": "5dc0f325",
   "metadata": {
    "colab": {
     "base_uri": "https://localhost:8080/"
    },
    "id": "5dc0f325",
    "outputId": "4e6ea16e-15ff-4629-905f-2e8af15a9fec"
   },
   "outputs": [
    {
     "name": "stdout",
     "output_type": "stream",
     "text": [
      "[[0 0]\n",
      " [1 0]\n",
      " [0 0]\n",
      " ...\n",
      " [0 0]\n",
      " [0 0]\n",
      " [0 1]]\n"
     ]
    }
   ],
   "source": [
    "y_pred = classifier.predict(x_test)\n",
    "print(np.concatenate((y_pred.reshape(len(y_pred),1), y_test.reshape(len(y_test),1)),1))"
   ]
  },
  {
   "cell_type": "markdown",
   "id": "38016782",
   "metadata": {
    "id": "38016782"
   },
   "source": [
    "#### Making Confusion Matrix and Accuracy"
   ]
  },
  {
   "cell_type": "code",
   "execution_count": 23,
   "id": "0c9262be",
   "metadata": {
    "colab": {
     "base_uri": "https://localhost:8080/"
    },
    "id": "0c9262be",
    "outputId": "666cb9bb-fc8c-4dc2-f00a-7d843781de23"
   },
   "outputs": [
    {
     "name": "stdout",
     "output_type": "stream",
     "text": [
      "[[5678  120]\n",
      " [ 540  252]]\n",
      "accuracy:  89.98482549317147 %\n"
     ]
    }
   ],
   "source": [
    "from sklearn.metrics import confusion_matrix, accuracy_score\n",
    "cm = confusion_matrix(y_test, y_pred)\n",
    "print(cm)\n",
    "print(\"accuracy: \", accuracy_score(y_test, y_pred) * 100, \"%\")"
   ]
  },
  {
   "cell_type": "markdown",
   "id": "bf104dd4",
   "metadata": {
    "id": "bf104dd4"
   },
   "source": [
    "# ---------- Naive Bayes ----------"
   ]
  },
  {
   "cell_type": "code",
   "execution_count": 24,
   "id": "fbe7d11f",
   "metadata": {
    "colab": {
     "base_uri": "https://localhost:8080/"
    },
    "id": "fbe7d11f",
    "outputId": "ca7825d6-8769-4f55-927d-2dad1acd010b"
   },
   "outputs": [
    {
     "data": {
      "text/plain": [
       "GaussianNB()"
      ]
     },
     "execution_count": 24,
     "metadata": {},
     "output_type": "execute_result"
    }
   ],
   "source": [
    "# training naive bayes model on training set.\n",
    "from sklearn.naive_bayes import GaussianNB\n",
    "classifier = GaussianNB()\n",
    "classifier.fit(x_train, y_train)"
   ]
  },
  {
   "cell_type": "markdown",
   "id": "1fc451c7",
   "metadata": {
    "id": "1fc451c7"
   },
   "source": [
    "#### Predicting Test Set Results"
   ]
  },
  {
   "cell_type": "code",
   "execution_count": 25,
   "id": "28d3a4ad",
   "metadata": {
    "colab": {
     "base_uri": "https://localhost:8080/"
    },
    "id": "28d3a4ad",
    "outputId": "17384e7a-af5f-46f5-fea4-cb4af07d0057"
   },
   "outputs": [
    {
     "name": "stdout",
     "output_type": "stream",
     "text": [
      "[[1 0]\n",
      " [1 0]\n",
      " [1 0]\n",
      " ...\n",
      " [0 0]\n",
      " [1 0]\n",
      " [1 1]]\n"
     ]
    }
   ],
   "source": [
    "y_pred = classifier.predict(x_test)\n",
    "print(np.concatenate((y_pred.reshape(len(y_pred),1), y_test.reshape(len(y_test),1)),1))"
   ]
  },
  {
   "cell_type": "markdown",
   "id": "1df8fb48",
   "metadata": {
    "id": "1df8fb48"
   },
   "source": [
    "#### Making Confusion Matrix and Accuracy"
   ]
  },
  {
   "cell_type": "code",
   "execution_count": 26,
   "id": "f2fc4fad",
   "metadata": {
    "colab": {
     "base_uri": "https://localhost:8080/"
    },
    "id": "f2fc4fad",
    "outputId": "6283b73e-19df-41b1-e959-c56dd61bc447"
   },
   "outputs": [
    {
     "name": "stdout",
     "output_type": "stream",
     "text": [
      "[[ 223 5575]\n",
      " [   9  783]]\n",
      "accuracy:  15.265553869499241 %\n"
     ]
    }
   ],
   "source": [
    "from sklearn.metrics import confusion_matrix, accuracy_score\n",
    "cm = confusion_matrix(y_test, y_pred)\n",
    "print(cm)\n",
    "print(\"accuracy: \", accuracy_score(y_test, y_pred) * 100, \"%\")"
   ]
  },
  {
   "cell_type": "markdown",
   "id": "2fb9f3a1",
   "metadata": {
    "id": "2fb9f3a1"
   },
   "source": [
    "# ---------- Decision Tree Classification ----------"
   ]
  },
  {
   "cell_type": "code",
   "execution_count": 27,
   "id": "c5fa9be8",
   "metadata": {
    "colab": {
     "base_uri": "https://localhost:8080/"
    },
    "id": "c5fa9be8",
    "outputId": "2a38f316-57dd-4786-afca-baefcba838e9"
   },
   "outputs": [
    {
     "data": {
      "text/plain": [
       "DecisionTreeClassifier(criterion='entropy', random_state=0)"
      ]
     },
     "execution_count": 27,
     "metadata": {},
     "output_type": "execute_result"
    }
   ],
   "source": [
    "# training decision tree classification model on training set.\n",
    "from sklearn.tree import DecisionTreeClassifier\n",
    "classifier = DecisionTreeClassifier(criterion = 'entropy', random_state = 0)\n",
    "classifier.fit(x_train, y_train)"
   ]
  },
  {
   "cell_type": "markdown",
   "id": "5322117f",
   "metadata": {
    "id": "5322117f"
   },
   "source": [
    "#### Predicting Test Set Result"
   ]
  },
  {
   "cell_type": "code",
   "execution_count": 28,
   "id": "3c59b117",
   "metadata": {
    "colab": {
     "base_uri": "https://localhost:8080/"
    },
    "id": "3c59b117",
    "outputId": "a0a80876-4b34-41d1-c609-257629758eda"
   },
   "outputs": [
    {
     "name": "stdout",
     "output_type": "stream",
     "text": [
      "[[0 0]\n",
      " [1 0]\n",
      " [0 0]\n",
      " ...\n",
      " [0 0]\n",
      " [0 0]\n",
      " [1 1]]\n"
     ]
    }
   ],
   "source": [
    "y_pred = classifier.predict(x_test)\n",
    "print(np.concatenate((y_pred.reshape(len(y_pred),1), y_test.reshape(len(y_test),1)),1))"
   ]
  },
  {
   "cell_type": "markdown",
   "id": "cfaa4911",
   "metadata": {
    "id": "cfaa4911"
   },
   "source": [
    "#### Making Confusion Matrix and Accuracy"
   ]
  },
  {
   "cell_type": "code",
   "execution_count": 29,
   "id": "c2f4d944",
   "metadata": {
    "colab": {
     "base_uri": "https://localhost:8080/"
    },
    "id": "c2f4d944",
    "outputId": "a17dd7f5-63a0-4b41-a516-8c9238d3d225"
   },
   "outputs": [
    {
     "name": "stdout",
     "output_type": "stream",
     "text": [
      "[[5381  417]\n",
      " [ 426  366]]\n",
      "accuracy:  87.20789074355083 %\n"
     ]
    }
   ],
   "source": [
    "from sklearn.metrics import confusion_matrix, accuracy_score\n",
    "cm = confusion_matrix(y_test, y_pred)\n",
    "print(cm)\n",
    "print(\"accuracy: \", accuracy_score(y_test, y_pred) * 100, \"%\")"
   ]
  },
  {
   "cell_type": "markdown",
   "id": "8bdda567",
   "metadata": {
    "id": "8bdda567"
   },
   "source": [
    "# ---------- Random Forest Classification ----------"
   ]
  },
  {
   "cell_type": "code",
   "execution_count": 30,
   "id": "f79aa2a9",
   "metadata": {
    "colab": {
     "base_uri": "https://localhost:8080/"
    },
    "id": "f79aa2a9",
    "outputId": "0370c63e-1bd7-4b48-ae87-d97b98a60707"
   },
   "outputs": [
    {
     "data": {
      "text/plain": [
       "RandomForestClassifier(criterion='entropy', n_estimators=10, random_state=0)"
      ]
     },
     "execution_count": 30,
     "metadata": {},
     "output_type": "execute_result"
    }
   ],
   "source": [
    "# training the model on training set.\n",
    "from sklearn.ensemble import RandomForestClassifier\n",
    "classifier = RandomForestClassifier(n_estimators = 10, criterion = 'entropy', random_state = 0)\n",
    "classifier.fit(x_train, y_train)"
   ]
  },
  {
   "cell_type": "markdown",
   "id": "bbd38ae8",
   "metadata": {
    "id": "bbd38ae8"
   },
   "source": [
    "#### Predicting Test Set Results"
   ]
  },
  {
   "cell_type": "code",
   "execution_count": 31,
   "id": "db23d6fe",
   "metadata": {
    "colab": {
     "base_uri": "https://localhost:8080/"
    },
    "id": "db23d6fe",
    "outputId": "9d449786-b773-4948-e4c5-0c6a53117566"
   },
   "outputs": [
    {
     "name": "stdout",
     "output_type": "stream",
     "text": [
      "[[0 0]\n",
      " [1 0]\n",
      " [0 0]\n",
      " ...\n",
      " [0 0]\n",
      " [0 0]\n",
      " [0 1]]\n"
     ]
    }
   ],
   "source": [
    "y_pred = classifier.predict(x_test)\n",
    "print(np.concatenate((y_pred.reshape(len(y_pred),1), y_test.reshape(len(y_test),1)),1))"
   ]
  },
  {
   "cell_type": "markdown",
   "id": "164215f7",
   "metadata": {
    "id": "164215f7"
   },
   "source": [
    "#### Making Confusion Matrix and Accuracy"
   ]
  },
  {
   "cell_type": "code",
   "execution_count": 32,
   "id": "c7312113",
   "metadata": {
    "colab": {
     "base_uri": "https://localhost:8080/"
    },
    "id": "c7312113",
    "outputId": "bc2b94c5-feb3-4d7d-c621-023d430d9ce6"
   },
   "outputs": [
    {
     "name": "stdout",
     "output_type": "stream",
     "text": [
      "[[5638  160]\n",
      " [ 522  270]]\n",
      "accuracy:  89.65098634294385 %\n"
     ]
    }
   ],
   "source": [
    "from sklearn.metrics import confusion_matrix, accuracy_score\n",
    "cm = confusion_matrix(y_test, y_pred)\n",
    "print(cm)\n",
    "print(\"accuracy: \", accuracy_score(y_test, y_pred) * 100, \"%\")"
   ]
  },
  {
   "cell_type": "markdown",
   "id": "3c1fb515",
   "metadata": {
    "id": "7fbf0fea"
   },
   "source": [
    "# ---------- Artificial Neural Network----------"
   ]
  },
  {
   "cell_type": "code",
   "execution_count": 33,
   "id": "66c643a7",
   "metadata": {},
   "outputs": [],
   "source": [
    "import tensorflow as tf"
   ]
  },
  {
   "cell_type": "code",
   "execution_count": 34,
   "id": "94ac42c9",
   "metadata": {},
   "outputs": [],
   "source": [
    "from sklearn.preprocessing import StandardScaler\n",
    "sc = StandardScaler()\n",
    "x_train = sc.fit_transform(x_train)\n",
    "x_test = sc.transform(x_test)"
   ]
  },
  {
   "cell_type": "code",
   "execution_count": 35,
   "id": "5d496ca8",
   "metadata": {},
   "outputs": [
    {
     "name": "stdout",
     "output_type": "stream",
     "text": [
      "Epoch 1/200\n",
      "2636/2636 [==============================] - 4s 1ms/step - loss: 0.2483 - accuracy: 0.8921\n",
      "Epoch 2/200\n",
      "2636/2636 [==============================] - 4s 1ms/step - loss: 0.2103 - accuracy: 0.9070\n",
      "Epoch 3/200\n",
      "2636/2636 [==============================] - 4s 1ms/step - loss: 0.2059 - accuracy: 0.9095\n",
      "Epoch 4/200\n",
      "2636/2636 [==============================] - 4s 1ms/step - loss: 0.2042 - accuracy: 0.9109\n",
      "Epoch 5/200\n",
      "2636/2636 [==============================] - 4s 1ms/step - loss: 0.2023 - accuracy: 0.9113\n",
      "Epoch 6/200\n",
      "2636/2636 [==============================] - 4s 1ms/step - loss: 0.2010 - accuracy: 0.9118\n",
      "Epoch 7/200\n",
      "2636/2636 [==============================] - 4s 1ms/step - loss: 0.1996 - accuracy: 0.9130\n",
      "Epoch 8/200\n",
      "2636/2636 [==============================] - 4s 1ms/step - loss: 0.1990 - accuracy: 0.9129\n",
      "Epoch 9/200\n",
      "2636/2636 [==============================] - 4s 2ms/step - loss: 0.1985 - accuracy: 0.9134\n",
      "Epoch 10/200\n",
      "2636/2636 [==============================] - 4s 1ms/step - loss: 0.1980 - accuracy: 0.9140\n",
      "Epoch 11/200\n",
      "2636/2636 [==============================] - 4s 1ms/step - loss: 0.1977 - accuracy: 0.9142\n",
      "Epoch 12/200\n",
      "2636/2636 [==============================] - 4s 1ms/step - loss: 0.1971 - accuracy: 0.9135\n",
      "Epoch 13/200\n",
      "2636/2636 [==============================] - 4s 1ms/step - loss: 0.1970 - accuracy: 0.9142\n",
      "Epoch 14/200\n",
      "2636/2636 [==============================] - 4s 1ms/step - loss: 0.1968 - accuracy: 0.9132\n",
      "Epoch 15/200\n",
      "2636/2636 [==============================] - 4s 1ms/step - loss: 0.1966 - accuracy: 0.9143\n",
      "Epoch 16/200\n",
      "2636/2636 [==============================] - 4s 2ms/step - loss: 0.1960 - accuracy: 0.9149\n",
      "Epoch 17/200\n",
      "2636/2636 [==============================] - 4s 1ms/step - loss: 0.1957 - accuracy: 0.9153\n",
      "Epoch 18/200\n",
      "2636/2636 [==============================] - 4s 1ms/step - loss: 0.1954 - accuracy: 0.9151\n",
      "Epoch 19/200\n",
      "2636/2636 [==============================] - 4s 1ms/step - loss: 0.1951 - accuracy: 0.9139\n",
      "Epoch 20/200\n",
      "2636/2636 [==============================] - 4s 2ms/step - loss: 0.1950 - accuracy: 0.9138\n",
      "Epoch 21/200\n",
      "2636/2636 [==============================] - 4s 2ms/step - loss: 0.1952 - accuracy: 0.9133\n",
      "Epoch 22/200\n",
      "2636/2636 [==============================] - 4s 2ms/step - loss: 0.1950 - accuracy: 0.9149\n",
      "Epoch 23/200\n",
      "2636/2636 [==============================] - 4s 2ms/step - loss: 0.1949 - accuracy: 0.9148\n",
      "Epoch 24/200\n",
      "2636/2636 [==============================] - 4s 1ms/step - loss: 0.1948 - accuracy: 0.9149\n",
      "Epoch 25/200\n",
      "2636/2636 [==============================] - 4s 2ms/step - loss: 0.1946 - accuracy: 0.9143\n",
      "Epoch 26/200\n",
      "2636/2636 [==============================] - 4s 2ms/step - loss: 0.1945 - accuracy: 0.9136\n",
      "Epoch 27/200\n",
      "2636/2636 [==============================] - 4s 2ms/step - loss: 0.1940 - accuracy: 0.9149\n",
      "Epoch 28/200\n",
      "2636/2636 [==============================] - 4s 1ms/step - loss: 0.1942 - accuracy: 0.9143\n",
      "Epoch 29/200\n",
      "2636/2636 [==============================] - 4s 2ms/step - loss: 0.1940 - accuracy: 0.9150\n",
      "Epoch 30/200\n",
      "2636/2636 [==============================] - 4s 1ms/step - loss: 0.1940 - accuracy: 0.9143\n",
      "Epoch 31/200\n",
      "2636/2636 [==============================] - 4s 1ms/step - loss: 0.1941 - accuracy: 0.9142\n",
      "Epoch 32/200\n",
      "2636/2636 [==============================] - 4s 1ms/step - loss: 0.1939 - accuracy: 0.9145\n",
      "Epoch 33/200\n",
      "2636/2636 [==============================] - 4s 1ms/step - loss: 0.1941 - accuracy: 0.9143\n",
      "Epoch 34/200\n",
      "2636/2636 [==============================] - 4s 1ms/step - loss: 0.1938 - accuracy: 0.9143\n",
      "Epoch 35/200\n",
      "2636/2636 [==============================] - 4s 1ms/step - loss: 0.1935 - accuracy: 0.9151\n",
      "Epoch 36/200\n",
      "2636/2636 [==============================] - 4s 1ms/step - loss: 0.1935 - accuracy: 0.9153\n",
      "Epoch 37/200\n",
      "2636/2636 [==============================] - 4s 2ms/step - loss: 0.1938 - accuracy: 0.9145\n",
      "Epoch 38/200\n",
      "2636/2636 [==============================] - 4s 1ms/step - loss: 0.1932 - accuracy: 0.9149\n",
      "Epoch 39/200\n",
      "2636/2636 [==============================] - 4s 2ms/step - loss: 0.1936 - accuracy: 0.9146\n",
      "Epoch 40/200\n",
      "2636/2636 [==============================] - 4s 2ms/step - loss: 0.1934 - accuracy: 0.9145\n",
      "Epoch 41/200\n",
      "2636/2636 [==============================] - 4s 2ms/step - loss: 0.1935 - accuracy: 0.9148\n",
      "Epoch 42/200\n",
      "2636/2636 [==============================] - 4s 2ms/step - loss: 0.1932 - accuracy: 0.9153\n",
      "Epoch 43/200\n",
      "2636/2636 [==============================] - 4s 2ms/step - loss: 0.1933 - accuracy: 0.9151\n",
      "Epoch 44/200\n",
      "2636/2636 [==============================] - 4s 2ms/step - loss: 0.1933 - accuracy: 0.9157\n",
      "Epoch 45/200\n",
      "2636/2636 [==============================] - 4s 2ms/step - loss: 0.1933 - accuracy: 0.9150\n",
      "Epoch 46/200\n",
      "2636/2636 [==============================] - 4s 2ms/step - loss: 0.1931 - accuracy: 0.9156\n",
      "Epoch 47/200\n",
      "2636/2636 [==============================] - 4s 2ms/step - loss: 0.1932 - accuracy: 0.9140\n",
      "Epoch 48/200\n",
      "2636/2636 [==============================] - 4s 2ms/step - loss: 0.1929 - accuracy: 0.9153\n",
      "Epoch 49/200\n",
      "2636/2636 [==============================] - 4s 2ms/step - loss: 0.1929 - accuracy: 0.9153\n",
      "Epoch 50/200\n",
      "2636/2636 [==============================] - 4s 2ms/step - loss: 0.1931 - accuracy: 0.9149\n",
      "Epoch 51/200\n",
      "2636/2636 [==============================] - 4s 2ms/step - loss: 0.1930 - accuracy: 0.9141\n",
      "Epoch 52/200\n",
      "2636/2636 [==============================] - 4s 2ms/step - loss: 0.1931 - accuracy: 0.9148\n",
      "Epoch 53/200\n",
      "2636/2636 [==============================] - 4s 1ms/step - loss: 0.1931 - accuracy: 0.9154\n",
      "Epoch 54/200\n",
      "2636/2636 [==============================] - 4s 1ms/step - loss: 0.1928 - accuracy: 0.9156\n",
      "Epoch 55/200\n",
      "2636/2636 [==============================] - 4s 1ms/step - loss: 0.1928 - accuracy: 0.9143\n",
      "Epoch 56/200\n",
      "2636/2636 [==============================] - 4s 1ms/step - loss: 0.1931 - accuracy: 0.9147\n",
      "Epoch 57/200\n",
      "2636/2636 [==============================] - 4s 1ms/step - loss: 0.1927 - accuracy: 0.9162\n",
      "Epoch 58/200\n",
      "2636/2636 [==============================] - 4s 2ms/step - loss: 0.1929 - accuracy: 0.9151\n",
      "Epoch 59/200\n",
      "2636/2636 [==============================] - 5s 2ms/step - loss: 0.1929 - accuracy: 0.9151\n",
      "Epoch 60/200\n",
      "2636/2636 [==============================] - 5s 2ms/step - loss: 0.1927 - accuracy: 0.9146\n",
      "Epoch 61/200\n",
      "2636/2636 [==============================] - 5s 2ms/step - loss: 0.1926 - accuracy: 0.9147\n",
      "Epoch 62/200\n",
      "2636/2636 [==============================] - 5s 2ms/step - loss: 0.1926 - accuracy: 0.9150\n",
      "Epoch 63/200\n",
      "2636/2636 [==============================] - 5s 2ms/step - loss: 0.1927 - accuracy: 0.9150\n",
      "Epoch 64/200\n",
      "2636/2636 [==============================] - 4s 1ms/step - loss: 0.1926 - accuracy: 0.9146\n",
      "Epoch 65/200\n",
      "2636/2636 [==============================] - 4s 1ms/step - loss: 0.1926 - accuracy: 0.9159\n",
      "Epoch 66/200\n",
      "2636/2636 [==============================] - 4s 1ms/step - loss: 0.1928 - accuracy: 0.9150\n",
      "Epoch 67/200\n",
      "2636/2636 [==============================] - 4s 1ms/step - loss: 0.1925 - accuracy: 0.9148\n",
      "Epoch 68/200\n",
      "2636/2636 [==============================] - 4s 1ms/step - loss: 0.1926 - accuracy: 0.9154\n",
      "Epoch 69/200\n",
      "2636/2636 [==============================] - 4s 2ms/step - loss: 0.1925 - accuracy: 0.9147\n",
      "Epoch 70/200\n",
      "2636/2636 [==============================] - 4s 2ms/step - loss: 0.1926 - accuracy: 0.9149\n",
      "Epoch 71/200\n",
      "2636/2636 [==============================] - 4s 2ms/step - loss: 0.1926 - accuracy: 0.9156\n",
      "Epoch 72/200\n",
      "2636/2636 [==============================] - 4s 2ms/step - loss: 0.1924 - accuracy: 0.9148\n",
      "Epoch 73/200\n",
      "2636/2636 [==============================] - 4s 2ms/step - loss: 0.1924 - accuracy: 0.9158\n",
      "Epoch 74/200\n",
      "2636/2636 [==============================] - 4s 2ms/step - loss: 0.1926 - accuracy: 0.9147\n",
      "Epoch 75/200\n",
      "2636/2636 [==============================] - 4s 2ms/step - loss: 0.1923 - accuracy: 0.9148\n",
      "Epoch 76/200\n",
      "2636/2636 [==============================] - 4s 2ms/step - loss: 0.1925 - accuracy: 0.9151\n",
      "Epoch 77/200\n",
      "2636/2636 [==============================] - 4s 2ms/step - loss: 0.1924 - accuracy: 0.9156\n",
      "Epoch 78/200\n",
      "2636/2636 [==============================] - 4s 2ms/step - loss: 0.1922 - accuracy: 0.9149\n",
      "Epoch 79/200\n",
      "2636/2636 [==============================] - 4s 1ms/step - loss: 0.1925 - accuracy: 0.9151\n",
      "Epoch 80/200\n",
      "2636/2636 [==============================] - 4s 1ms/step - loss: 0.1924 - accuracy: 0.9148\n",
      "Epoch 81/200\n",
      "2636/2636 [==============================] - 4s 1ms/step - loss: 0.1922 - accuracy: 0.9153\n",
      "Epoch 82/200\n",
      "2636/2636 [==============================] - 4s 1ms/step - loss: 0.1924 - accuracy: 0.9151\n",
      "Epoch 83/200\n",
      "2636/2636 [==============================] - 4s 1ms/step - loss: 0.1923 - accuracy: 0.9154\n",
      "Epoch 84/200\n",
      "2636/2636 [==============================] - 4s 1ms/step - loss: 0.1924 - accuracy: 0.9156\n",
      "Epoch 85/200\n",
      "2636/2636 [==============================] - 4s 1ms/step - loss: 0.1923 - accuracy: 0.9159\n",
      "Epoch 86/200\n",
      "2636/2636 [==============================] - 4s 2ms/step - loss: 0.1922 - accuracy: 0.9153\n",
      "Epoch 87/200\n",
      "2636/2636 [==============================] - 4s 1ms/step - loss: 0.1921 - accuracy: 0.9152\n",
      "Epoch 88/200\n",
      "2636/2636 [==============================] - 4s 2ms/step - loss: 0.1922 - accuracy: 0.9151\n",
      "Epoch 89/200\n",
      "2636/2636 [==============================] - 4s 2ms/step - loss: 0.1920 - accuracy: 0.9158\n",
      "Epoch 90/200\n",
      "2636/2636 [==============================] - 4s 1ms/step - loss: 0.1922 - accuracy: 0.9155\n",
      "Epoch 91/200\n",
      "2636/2636 [==============================] - 4s 1ms/step - loss: 0.1922 - accuracy: 0.9149\n",
      "Epoch 92/200\n",
      "2636/2636 [==============================] - 4s 1ms/step - loss: 0.1921 - accuracy: 0.9162\n",
      "Epoch 93/200\n",
      "2636/2636 [==============================] - 4s 1ms/step - loss: 0.1920 - accuracy: 0.9156\n",
      "Epoch 94/200\n",
      "2636/2636 [==============================] - 4s 1ms/step - loss: 0.1921 - accuracy: 0.9153\n",
      "Epoch 95/200\n",
      "2636/2636 [==============================] - 4s 1ms/step - loss: 0.1923 - accuracy: 0.9157\n",
      "Epoch 96/200\n",
      "2636/2636 [==============================] - 4s 1ms/step - loss: 0.1921 - accuracy: 0.9151\n",
      "Epoch 97/200\n",
      "2636/2636 [==============================] - 4s 1ms/step - loss: 0.1919 - accuracy: 0.9155\n",
      "Epoch 98/200\n",
      "2636/2636 [==============================] - 4s 1ms/step - loss: 0.1920 - accuracy: 0.9152\n",
      "Epoch 99/200\n",
      "2636/2636 [==============================] - 4s 2ms/step - loss: 0.1921 - accuracy: 0.9154\n",
      "Epoch 100/200\n",
      "2636/2636 [==============================] - 4s 1ms/step - loss: 0.1919 - accuracy: 0.9159\n",
      "Epoch 101/200\n",
      "2636/2636 [==============================] - 4s 2ms/step - loss: 0.1920 - accuracy: 0.9153\n",
      "Epoch 102/200\n",
      "2636/2636 [==============================] - 5s 2ms/step - loss: 0.1921 - accuracy: 0.9146\n",
      "Epoch 103/200\n",
      "2636/2636 [==============================] - 5s 2ms/step - loss: 0.1921 - accuracy: 0.9153\n",
      "Epoch 104/200\n",
      "2636/2636 [==============================] - 5s 2ms/step - loss: 0.1917 - accuracy: 0.9156\n",
      "Epoch 105/200\n",
      "2636/2636 [==============================] - 5s 2ms/step - loss: 0.1921 - accuracy: 0.9159\n",
      "Epoch 106/200\n",
      "2636/2636 [==============================] - 5s 2ms/step - loss: 0.1920 - accuracy: 0.9156\n",
      "Epoch 107/200\n",
      "2636/2636 [==============================] - 5s 2ms/step - loss: 0.1921 - accuracy: 0.9156\n",
      "Epoch 108/200\n",
      "2636/2636 [==============================] - 4s 1ms/step - loss: 0.1918 - accuracy: 0.9158\n",
      "Epoch 109/200\n",
      "2636/2636 [==============================] - 4s 2ms/step - loss: 0.1917 - accuracy: 0.9151\n",
      "Epoch 110/200\n",
      "2636/2636 [==============================] - 4s 2ms/step - loss: 0.1919 - accuracy: 0.9157\n",
      "Epoch 111/200\n",
      "2636/2636 [==============================] - 4s 1ms/step - loss: 0.1919 - accuracy: 0.9154\n",
      "Epoch 112/200\n",
      "2636/2636 [==============================] - 4s 1ms/step - loss: 0.1920 - accuracy: 0.9154\n",
      "Epoch 113/200\n",
      "2636/2636 [==============================] - 4s 1ms/step - loss: 0.1918 - accuracy: 0.9149\n",
      "Epoch 114/200\n",
      "2636/2636 [==============================] - 4s 1ms/step - loss: 0.1919 - accuracy: 0.9164\n",
      "Epoch 115/200\n",
      "2636/2636 [==============================] - 4s 1ms/step - loss: 0.1920 - accuracy: 0.9161\n",
      "Epoch 116/200\n",
      "2636/2636 [==============================] - 4s 1ms/step - loss: 0.1920 - accuracy: 0.9156\n",
      "Epoch 117/200\n",
      "2636/2636 [==============================] - 4s 1ms/step - loss: 0.1918 - accuracy: 0.9156\n",
      "Epoch 118/200\n",
      "2636/2636 [==============================] - 4s 2ms/step - loss: 0.1920 - accuracy: 0.9160\n",
      "Epoch 119/200\n",
      "2636/2636 [==============================] - 4s 1ms/step - loss: 0.1918 - accuracy: 0.9162\n",
      "Epoch 120/200\n",
      "2636/2636 [==============================] - 4s 2ms/step - loss: 0.1920 - accuracy: 0.9156\n",
      "Epoch 121/200\n",
      "2636/2636 [==============================] - 4s 1ms/step - loss: 0.1916 - accuracy: 0.9157\n",
      "Epoch 122/200\n",
      "2636/2636 [==============================] - 4s 1ms/step - loss: 0.1918 - accuracy: 0.9160\n",
      "Epoch 123/200\n",
      "2636/2636 [==============================] - 4s 1ms/step - loss: 0.1919 - accuracy: 0.9160\n",
      "Epoch 124/200\n",
      "2636/2636 [==============================] - 4s 1ms/step - loss: 0.1915 - accuracy: 0.9162\n",
      "Epoch 125/200\n",
      "2636/2636 [==============================] - 4s 1ms/step - loss: 0.1917 - accuracy: 0.9162\n",
      "Epoch 126/200\n",
      "2636/2636 [==============================] - 4s 1ms/step - loss: 0.1919 - accuracy: 0.9164\n",
      "Epoch 127/200\n",
      "2636/2636 [==============================] - 4s 2ms/step - loss: 0.1919 - accuracy: 0.9157\n",
      "Epoch 128/200\n",
      "2636/2636 [==============================] - 5s 2ms/step - loss: 0.1917 - accuracy: 0.9161\n",
      "Epoch 129/200\n",
      "2636/2636 [==============================] - 4s 1ms/step - loss: 0.1918 - accuracy: 0.9163\n",
      "Epoch 130/200\n",
      "2636/2636 [==============================] - 4s 2ms/step - loss: 0.1916 - accuracy: 0.9155\n",
      "Epoch 131/200\n",
      "2636/2636 [==============================] - 4s 2ms/step - loss: 0.1916 - accuracy: 0.9157\n",
      "Epoch 132/200\n",
      "2636/2636 [==============================] - 4s 1ms/step - loss: 0.1918 - accuracy: 0.9158\n",
      "Epoch 133/200\n",
      "2636/2636 [==============================] - 4s 2ms/step - loss: 0.1915 - accuracy: 0.9168\n",
      "Epoch 134/200\n",
      "2636/2636 [==============================] - 4s 1ms/step - loss: 0.1916 - accuracy: 0.9159\n",
      "Epoch 135/200\n",
      "2636/2636 [==============================] - 4s 2ms/step - loss: 0.1917 - accuracy: 0.9150\n",
      "Epoch 136/200\n",
      "2636/2636 [==============================] - 4s 1ms/step - loss: 0.1915 - accuracy: 0.9160\n",
      "Epoch 137/200\n",
      "2636/2636 [==============================] - 4s 2ms/step - loss: 0.1918 - accuracy: 0.9159\n",
      "Epoch 138/200\n",
      "2636/2636 [==============================] - 4s 2ms/step - loss: 0.1916 - accuracy: 0.9160\n",
      "Epoch 139/200\n",
      "2636/2636 [==============================] - 4s 2ms/step - loss: 0.1915 - accuracy: 0.9158\n",
      "Epoch 140/200\n",
      "2636/2636 [==============================] - 4s 2ms/step - loss: 0.1917 - accuracy: 0.9157\n",
      "Epoch 141/200\n",
      "2636/2636 [==============================] - 4s 2ms/step - loss: 0.1916 - accuracy: 0.9154\n",
      "Epoch 142/200\n",
      "2636/2636 [==============================] - 4s 2ms/step - loss: 0.1917 - accuracy: 0.9161\n",
      "Epoch 143/200\n",
      "2636/2636 [==============================] - 4s 2ms/step - loss: 0.1917 - accuracy: 0.9159\n",
      "Epoch 144/200\n",
      "2636/2636 [==============================] - 4s 2ms/step - loss: 0.1917 - accuracy: 0.9157\n",
      "Epoch 145/200\n",
      "2636/2636 [==============================] - 5s 2ms/step - loss: 0.1915 - accuracy: 0.9159\n",
      "Epoch 146/200\n",
      "2636/2636 [==============================] - 4s 2ms/step - loss: 0.1916 - accuracy: 0.9156\n",
      "Epoch 147/200\n",
      "2636/2636 [==============================] - 4s 2ms/step - loss: 0.1918 - accuracy: 0.9149\n",
      "Epoch 148/200\n",
      "2636/2636 [==============================] - 4s 2ms/step - loss: 0.1915 - accuracy: 0.9152\n",
      "Epoch 149/200\n",
      "2636/2636 [==============================] - 4s 2ms/step - loss: 0.1916 - accuracy: 0.9156\n",
      "Epoch 150/200\n",
      "2636/2636 [==============================] - 4s 2ms/step - loss: 0.1915 - accuracy: 0.9155\n",
      "Epoch 151/200\n",
      "2636/2636 [==============================] - 4s 2ms/step - loss: 0.1916 - accuracy: 0.9149\n",
      "Epoch 152/200\n",
      "2636/2636 [==============================] - 4s 2ms/step - loss: 0.1917 - accuracy: 0.9157\n",
      "Epoch 153/200\n",
      "2636/2636 [==============================] - 4s 2ms/step - loss: 0.1916 - accuracy: 0.9154\n",
      "Epoch 154/200\n",
      "2636/2636 [==============================] - 4s 2ms/step - loss: 0.1916 - accuracy: 0.9155\n",
      "Epoch 155/200\n",
      "2636/2636 [==============================] - 4s 2ms/step - loss: 0.1914 - accuracy: 0.9155\n",
      "Epoch 156/200\n",
      "2636/2636 [==============================] - 4s 2ms/step - loss: 0.1916 - accuracy: 0.9162\n",
      "Epoch 157/200\n"
     ]
    },
    {
     "name": "stdout",
     "output_type": "stream",
     "text": [
      "2636/2636 [==============================] - 4s 1ms/step - loss: 0.1916 - accuracy: 0.9158\n",
      "Epoch 158/200\n",
      "2636/2636 [==============================] - 4s 2ms/step - loss: 0.1913 - accuracy: 0.9161\n",
      "Epoch 159/200\n",
      "2636/2636 [==============================] - 4s 1ms/step - loss: 0.1913 - accuracy: 0.9152\n",
      "Epoch 160/200\n",
      "2636/2636 [==============================] - 4s 1ms/step - loss: 0.1916 - accuracy: 0.9159\n",
      "Epoch 161/200\n",
      "2636/2636 [==============================] - 4s 1ms/step - loss: 0.1915 - accuracy: 0.9158\n",
      "Epoch 162/200\n",
      "2636/2636 [==============================] - 4s 1ms/step - loss: 0.1915 - accuracy: 0.9155\n",
      "Epoch 163/200\n",
      "2636/2636 [==============================] - 4s 1ms/step - loss: 0.1915 - accuracy: 0.9154\n",
      "Epoch 164/200\n",
      "2636/2636 [==============================] - 4s 1ms/step - loss: 0.1914 - accuracy: 0.9159\n",
      "Epoch 165/200\n",
      "2636/2636 [==============================] - 4s 1ms/step - loss: 0.1914 - accuracy: 0.9153\n",
      "Epoch 166/200\n",
      "2636/2636 [==============================] - 4s 1ms/step - loss: 0.1915 - accuracy: 0.9154\n",
      "Epoch 167/200\n",
      "2636/2636 [==============================] - 4s 1ms/step - loss: 0.1914 - accuracy: 0.9161\n",
      "Epoch 168/200\n",
      "2636/2636 [==============================] - 4s 1ms/step - loss: 0.1913 - accuracy: 0.9162\n",
      "Epoch 169/200\n",
      "2636/2636 [==============================] - 4s 1ms/step - loss: 0.1916 - accuracy: 0.9155\n",
      "Epoch 170/200\n",
      "2636/2636 [==============================] - 4s 1ms/step - loss: 0.1915 - accuracy: 0.9168\n",
      "Epoch 171/200\n",
      "2636/2636 [==============================] - 4s 1ms/step - loss: 0.1915 - accuracy: 0.9161\n",
      "Epoch 172/200\n",
      "2636/2636 [==============================] - 4s 1ms/step - loss: 0.1914 - accuracy: 0.9153\n",
      "Epoch 173/200\n",
      "2636/2636 [==============================] - 4s 1ms/step - loss: 0.1915 - accuracy: 0.9157\n",
      "Epoch 174/200\n",
      "2636/2636 [==============================] - 4s 1ms/step - loss: 0.1913 - accuracy: 0.9151\n",
      "Epoch 175/200\n",
      "2636/2636 [==============================] - 4s 1ms/step - loss: 0.1914 - accuracy: 0.9160\n",
      "Epoch 176/200\n",
      "2636/2636 [==============================] - 4s 1ms/step - loss: 0.1913 - accuracy: 0.9155\n",
      "Epoch 177/200\n",
      "2636/2636 [==============================] - 4s 1ms/step - loss: 0.1915 - accuracy: 0.9153\n",
      "Epoch 178/200\n",
      "2636/2636 [==============================] - 4s 1ms/step - loss: 0.1914 - accuracy: 0.9162\n",
      "Epoch 179/200\n",
      "2636/2636 [==============================] - 4s 1ms/step - loss: 0.1914 - accuracy: 0.9157\n",
      "Epoch 180/200\n",
      "2636/2636 [==============================] - 4s 1ms/step - loss: 0.1913 - accuracy: 0.9161\n",
      "Epoch 181/200\n",
      "2636/2636 [==============================] - 4s 1ms/step - loss: 0.1913 - accuracy: 0.9156\n",
      "Epoch 182/200\n",
      "2636/2636 [==============================] - 4s 1ms/step - loss: 0.1914 - accuracy: 0.9154\n",
      "Epoch 183/200\n",
      "2636/2636 [==============================] - 4s 1ms/step - loss: 0.1913 - accuracy: 0.9153\n",
      "Epoch 184/200\n",
      "2636/2636 [==============================] - 4s 1ms/step - loss: 0.1916 - accuracy: 0.9157\n",
      "Epoch 185/200\n",
      "2636/2636 [==============================] - 4s 1ms/step - loss: 0.1912 - accuracy: 0.9163\n",
      "Epoch 186/200\n",
      "2636/2636 [==============================] - 4s 1ms/step - loss: 0.1914 - accuracy: 0.9156\n",
      "Epoch 187/200\n",
      "2636/2636 [==============================] - 4s 1ms/step - loss: 0.1911 - accuracy: 0.9162\n",
      "Epoch 188/200\n",
      "2636/2636 [==============================] - 4s 1ms/step - loss: 0.1914 - accuracy: 0.9163\n",
      "Epoch 189/200\n",
      "2636/2636 [==============================] - 4s 1ms/step - loss: 0.1914 - accuracy: 0.9158\n",
      "Epoch 190/200\n",
      "2636/2636 [==============================] - 4s 2ms/step - loss: 0.1912 - accuracy: 0.9155\n",
      "Epoch 191/200\n",
      "2636/2636 [==============================] - 4s 1ms/step - loss: 0.1911 - accuracy: 0.9158\n",
      "Epoch 192/200\n",
      "2636/2636 [==============================] - 4s 1ms/step - loss: 0.1914 - accuracy: 0.9154\n",
      "Epoch 193/200\n",
      "2636/2636 [==============================] - 4s 1ms/step - loss: 0.1913 - accuracy: 0.9154\n",
      "Epoch 194/200\n",
      "2636/2636 [==============================] - 4s 1ms/step - loss: 0.1914 - accuracy: 0.9155\n",
      "Epoch 195/200\n",
      "2636/2636 [==============================] - 4s 1ms/step - loss: 0.1910 - accuracy: 0.9164\n",
      "Epoch 196/200\n",
      "2636/2636 [==============================] - 4s 1ms/step - loss: 0.1912 - accuracy: 0.9164\n",
      "Epoch 197/200\n",
      "2636/2636 [==============================] - 4s 2ms/step - loss: 0.1912 - accuracy: 0.9157\n",
      "Epoch 198/200\n",
      "2636/2636 [==============================] - 4s 1ms/step - loss: 0.1912 - accuracy: 0.9156\n",
      "Epoch 199/200\n",
      "2636/2636 [==============================] - 4s 1ms/step - loss: 0.1913 - accuracy: 0.9162\n",
      "Epoch 200/200\n",
      "2636/2636 [==============================] - 4s 1ms/step - loss: 0.1912 - accuracy: 0.9154\n"
     ]
    },
    {
     "data": {
      "text/plain": [
       "<keras.callbacks.History at 0x261c2655420>"
      ]
     },
     "execution_count": 35,
     "metadata": {},
     "output_type": "execute_result"
    }
   ],
   "source": [
    "ann = tf.keras.models.Sequential()\n",
    "ann.add(tf.keras.layers.Dense(units = 6, kernel_initializer = 'uniform', activation = 'relu'))\n",
    "ann.add(tf.keras.layers.Dense(units = 6, kernel_initializer = 'uniform', activation = 'relu'))\n",
    "ann.add(tf.keras.layers.Dense(units=1,kernel_initializer = 'uniform', activation='sigmoid'))\n",
    "ann.compile(optimizer = 'adam', loss = 'binary_crossentropy', metrics = ['accuracy'])\n",
    "ann.fit(x_train, y_train, batch_size = 10, epochs = 200)"
   ]
  },
  {
   "cell_type": "code",
   "execution_count": 50,
   "id": "55e02e24",
   "metadata": {},
   "outputs": [
    {
     "name": "stdout",
     "output_type": "stream",
     "text": [
      "[[0 0]\n",
      " [0 0]\n",
      " [0 0]\n",
      " ...\n",
      " [0 0]\n",
      " [0 0]\n",
      " [1 1]]\n"
     ]
    }
   ],
   "source": [
    "y_pred = ann.predict(x_test)\n",
    "y_pred = (y_pred > 0.5)\n",
    "print(np.concatenate((y_pred.reshape(len(y_pred),1), y_test.reshape(len(y_test),1)),1))"
   ]
  },
  {
   "cell_type": "code",
   "execution_count": 52,
   "id": "34061b5c",
   "metadata": {},
   "outputs": [
    {
     "name": "stdout",
     "output_type": "stream",
     "text": [
      "[[5563  235]\n",
      " [ 385  407]]\n",
      "accuracy:  90.59180576631259 %\n"
     ]
    }
   ],
   "source": [
    "from sklearn.metrics import confusion_matrix, accuracy_score\n",
    "cm = confusion_matrix(y_test, y_pred)\n",
    "print(cm)\n",
    "print(\"accuracy: \", accuracy_score(y_test, y_pred) * 100, \"%\")"
   ]
  },
  {
   "cell_type": "code",
   "execution_count": null,
   "id": "846b9821",
   "metadata": {},
   "outputs": [],
   "source": []
  }
 ],
 "metadata": {
  "colab": {
   "name": "Model.ipynb",
   "provenance": []
  },
  "kernelspec": {
   "display_name": "Python 3 (ipykernel)",
   "language": "python",
   "name": "python3"
  },
  "language_info": {
   "codemirror_mode": {
    "name": "ipython",
    "version": 3
   },
   "file_extension": ".py",
   "mimetype": "text/x-python",
   "name": "python",
   "nbconvert_exporter": "python",
   "pygments_lexer": "ipython3",
   "version": "3.9.5"
  }
 },
 "nbformat": 4,
 "nbformat_minor": 5
}
